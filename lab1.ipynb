{
 "cells": [
  {
   "cell_type": "code",
   "execution_count": 1,
   "metadata": {},
   "outputs": [
    {
     "name": "stdout",
     "output_type": "stream",
     "text": [
      "hello world\n"
     ]
    }
   ],
   "source": [
    "print(\"hello world, I'm learning how to use Markdown language to create technical discussions\")"
   ]
  },
  {
   "cell_type": "markdown",
   "metadata": {},
   "source": [
    "# Practicing Jupiter Markdown\n",
    "### Main components of Effective Critical Thinking\n",
    "\n",
    "> Critical Thinking is important for managers to be able to make good desitions when analyzing different technical solutions.\n",
    "\n",
    "Critical thinking have some important components:\n",
    "\n",
    "1. Intelectual Humility\n",
    "2. Empathy\n",
    "3. Authonomy\n",
    "4. Integrity\n",
    "5. Perseverance\n",
    "6. Confidence in reason"
   ]
  }
 ],
 "metadata": {
  "kernelspec": {
   "display_name": "Python 3",
   "language": "python",
   "name": "python3"
  },
  "language_info": {
   "codemirror_mode": {
    "name": "ipython",
    "version": 3
   },
   "file_extension": ".py",
   "mimetype": "text/x-python",
   "name": "python",
   "nbconvert_exporter": "python",
   "pygments_lexer": "ipython3",
   "version": "3.7.6"
  }
 },
 "nbformat": 4,
 "nbformat_minor": 4
}
