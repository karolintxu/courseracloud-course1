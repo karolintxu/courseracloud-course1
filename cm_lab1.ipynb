{
  "cells": [
    {
      "cell_type": "markdown",
      "metadata": {
        "id": "view-in-github",
        "colab_type": "text"
      },
      "source": [
        "<a href=\"https://colab.research.google.com/github/karolintxu/courseracloud-course1/blob/main/cm_lab1.ipynb\" target=\"_parent\"><img src=\"https://colab.research.google.com/assets/colab-badge.svg\" alt=\"Open In Colab\"/></a>"
      ]
    },
    {
      "cell_type": "code",
      "execution_count": null,
      "metadata": {
        "id": "1e2vTbBFFZEK",
        "outputId": "89dc1d78-532f-4fbd-f6b5-43d5ddd7377c"
      },
      "outputs": [
        {
          "name": "stdout",
          "output_type": "stream",
          "text": [
            "hello world, I'm learning markdown\n"
          ]
        }
      ],
      "source": [
        "print(\"hello world, I'm learning markdown\")"
      ]
    },
    {
      "cell_type": "markdown",
      "metadata": {
        "id": "dJAEq9pCFZEO"
      },
      "source": [
        "# Practicing Jupiter Markdown\n",
        "### Main components of Effective Critical Thinking\n",
        "\n",
        "> Critical Thinking is important for managers to be able to make good desitions when analyzing different technical solutions.\n",
        "\n",
        "Critical thinking have some important components:\n",
        "\n",
        "1. Intelectual Humility\n",
        "2. Empathy\n",
        "3. Authonomy\n",
        "4. Integrity\n",
        "5. Perseverance\n",
        "6. Confidence in reason"
      ]
    }
  ],
  "metadata": {
    "kernelspec": {
      "display_name": "Python 3",
      "language": "python",
      "name": "python3"
    },
    "language_info": {
      "codemirror_mode": {
        "name": "ipython",
        "version": 3
      },
      "file_extension": ".py",
      "mimetype": "text/x-python",
      "name": "python",
      "nbconvert_exporter": "python",
      "pygments_lexer": "ipython3",
      "version": "3.7.6"
    },
    "colab": {
      "provenance": [],
      "include_colab_link": true
    }
  },
  "nbformat": 4,
  "nbformat_minor": 0
}